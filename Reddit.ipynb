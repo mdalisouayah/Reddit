{
 "cells": [
  {
   "cell_type": "markdown",
   "metadata": {},
   "source": [
    "# More data added"
   ]
  },
  {
   "cell_type": "code",
   "execution_count": 1,
   "metadata": {},
   "outputs": [],
   "source": [
    "import pandas as pd"
   ]
  },
  {
   "cell_type": "code",
   "execution_count": 2,
   "metadata": {},
   "outputs": [],
   "source": [
    "#import the data\n",
    "funny3 = pd.read_csv('./csv/funny3_subreddit.csv', index_col=[0])\n",
    "news3 = pd.read_csv('./csv/news3_subreddit.csv', index_col=[0])\n",
    "funny2 = pd.read_csv('./csv/funny2_subreddit.csv', index_col=[0])\n",
    "news2 = pd.read_csv('./csv/news2_subreddit.csv', index_col=[0])\n",
    "funny = pd.read_csv('./csv/funny_subreddit.csv', index_col=[0])\n",
    "news = pd.read_csv('./csv/news_subreddit.csv', index_col=[0])"
   ]
  },
  {
   "cell_type": "markdown",
   "metadata": {},
   "source": [
    "# Data Cleaning / EDA"
   ]
  },
  {
   "cell_type": "code",
   "execution_count": 3,
   "metadata": {
    "scrolled": true
   },
   "outputs": [
    {
     "data": {
      "text/plain": [
       "((2474, 2), (2434, 2), (2474, 2), (2426, 2), (2477, 11), (2496, 11))"
      ]
     },
     "execution_count": 3,
     "metadata": {},
     "output_type": "execute_result"
    }
   ],
   "source": [
    "#looking at the amount of data and shape\n",
    "funny3.shape, news3.shape, funny2.shape, news2.shape, funny.shape, news.shape"
   ]
  },
  {
   "cell_type": "code",
   "execution_count": 4,
   "metadata": {},
   "outputs": [
    {
     "name": "stderr",
     "output_type": "stream",
     "text": [
      "/anaconda3/envs/myenv/lib/python3.7/site-packages/ipykernel_launcher.py:4: FutureWarning: Sorting because non-concatenation axis is not aligned. A future version\n",
      "of pandas will change to not sort by default.\n",
      "\n",
      "To accept the future behavior, pass 'sort=False'.\n",
      "\n",
      "To retain the current behavior and silence the warning, pass 'sort=True'.\n",
      "\n",
      "  after removing the cwd from sys.path.\n"
     ]
    }
   ],
   "source": [
    "#merging the data\n",
    "frames = [news3, funny3, news2, funny2, news, funny]\n",
    "\n",
    "reddit = pd.concat(frames)"
   ]
  },
  {
   "cell_type": "code",
   "execution_count": 5,
   "metadata": {},
   "outputs": [
    {
     "data": {
      "text/plain": [
       "(14781, 11)"
      ]
     },
     "execution_count": 5,
     "metadata": {},
     "output_type": "execute_result"
    }
   ],
   "source": [
    "#checking the merged data\n",
    "reddit.shape"
   ]
  },
  {
   "cell_type": "code",
   "execution_count": 6,
   "metadata": {
    "scrolled": true
   },
   "outputs": [
    {
     "data": {
      "text/html": [
       "<div>\n",
       "<style scoped>\n",
       "    .dataframe tbody tr th:only-of-type {\n",
       "        vertical-align: middle;\n",
       "    }\n",
       "\n",
       "    .dataframe tbody tr th {\n",
       "        vertical-align: top;\n",
       "    }\n",
       "\n",
       "    .dataframe thead th {\n",
       "        text-align: right;\n",
       "    }\n",
       "</style>\n",
       "<table border=\"1\" class=\"dataframe\">\n",
       "  <thead>\n",
       "    <tr style=\"text-align: right;\">\n",
       "      <th></th>\n",
       "      <th>author_fullname</th>\n",
       "      <th>category</th>\n",
       "      <th>content_categories</th>\n",
       "      <th>id</th>\n",
       "      <th>is_self</th>\n",
       "      <th>name</th>\n",
       "      <th>selftext</th>\n",
       "      <th>subreddit</th>\n",
       "      <th>subreddit_id</th>\n",
       "      <th>suggested_sort</th>\n",
       "      <th>title</th>\n",
       "    </tr>\n",
       "  </thead>\n",
       "  <tbody>\n",
       "    <tr>\n",
       "      <th>0</th>\n",
       "      <td>t2_mz3ih</td>\n",
       "      <td>NaN</td>\n",
       "      <td>NaN</td>\n",
       "      <td>b8l0q4</td>\n",
       "      <td>False</td>\n",
       "      <td>t3_b8l0q4</td>\n",
       "      <td>NaN</td>\n",
       "      <td>funny</td>\n",
       "      <td>t5_2qh33</td>\n",
       "      <td>NaN</td>\n",
       "      <td>Gang Violence Going Down</td>\n",
       "    </tr>\n",
       "  </tbody>\n",
       "</table>\n",
       "</div>"
      ],
      "text/plain": [
       "  author_fullname  category  content_categories      id  is_self       name  \\\n",
       "0        t2_mz3ih       NaN                 NaN  b8l0q4    False  t3_b8l0q4   \n",
       "\n",
       "  selftext subreddit subreddit_id  suggested_sort                     title  \n",
       "0      NaN     funny     t5_2qh33             NaN  Gang Violence Going Down  "
      ]
     },
     "execution_count": 6,
     "metadata": {},
     "output_type": "execute_result"
    }
   ],
   "source": [
    "#checking the columns\n",
    "funny.head(1)"
   ]
  },
  {
   "cell_type": "code",
   "execution_count": 7,
   "metadata": {},
   "outputs": [
    {
     "data": {
      "text/plain": [
       "author_fullname        9808\n",
       "category              14781\n",
       "content_categories    14781\n",
       "id                     9808\n",
       "is_self                9808\n",
       "name                   9808\n",
       "selftext              14763\n",
       "subreddit                 0\n",
       "subreddit_id           9808\n",
       "suggested_sort        14781\n",
       "title                     0\n",
       "dtype: int64"
      ]
     },
     "execution_count": 7,
     "metadata": {},
     "output_type": "execute_result"
    }
   ],
   "source": [
    "#checking for missing data\n",
    "reddit.isnull().sum()"
   ]
  },
  {
   "cell_type": "code",
   "execution_count": 8,
   "metadata": {},
   "outputs": [],
   "source": [
    "#dropping columns with null values\n",
    "reddit = reddit.dropna(axis = 'columns')"
   ]
  },
  {
   "cell_type": "code",
   "execution_count": 9,
   "metadata": {},
   "outputs": [
    {
     "data": {
      "text/plain": [
       "(14781, 2)"
      ]
     },
     "execution_count": 9,
     "metadata": {},
     "output_type": "execute_result"
    }
   ],
   "source": [
    "reddit.shape"
   ]
  },
  {
   "cell_type": "code",
   "execution_count": 10,
   "metadata": {},
   "outputs": [],
   "source": [
    "#dropping duplicates\n",
    "reddit = reddit.drop_duplicates()"
   ]
  },
  {
   "cell_type": "code",
   "execution_count": 11,
   "metadata": {},
   "outputs": [
    {
     "data": {
      "text/plain": [
       "(3427, 2)"
      ]
     },
     "execution_count": 11,
     "metadata": {},
     "output_type": "execute_result"
    }
   ],
   "source": [
    "reddit.shape"
   ]
  },
  {
   "cell_type": "code",
   "execution_count": 12,
   "metadata": {},
   "outputs": [
    {
     "data": {
      "text/plain": [
       "subreddit    0\n",
       "title        0\n",
       "dtype: int64"
      ]
     },
     "execution_count": 12,
     "metadata": {},
     "output_type": "execute_result"
    }
   ],
   "source": [
    "reddit.isnull().sum()"
   ]
  },
  {
   "cell_type": "code",
   "execution_count": 13,
   "metadata": {},
   "outputs": [
    {
     "data": {
      "text/plain": [
       "0    Julian Assange to be expelled from Ecuadorian ...\n",
       "0    I couldn't find the kale at the grocery store....\n",
       "0                                       Cats on roomba\n",
       "0                             Gang Violence Going Down\n",
       "Name: title, dtype: object"
      ]
     },
     "execution_count": 13,
     "metadata": {},
     "output_type": "execute_result"
    }
   ],
   "source": [
    "#inspecting the first data point\n",
    "reddit['title'][0]"
   ]
  },
  {
   "cell_type": "code",
   "execution_count": 14,
   "metadata": {},
   "outputs": [],
   "source": [
    "# getting two of each subreddit . the index was preserved. resetting index\n",
    "reddit = reddit.reset_index(drop=True)"
   ]
  },
  {
   "cell_type": "code",
   "execution_count": 15,
   "metadata": {
    "scrolled": true
   },
   "outputs": [
    {
     "data": {
      "text/plain": [
       "funny        62.0\n",
       "worldnews    38.0\n",
       "Name: subreddit, dtype: float64"
      ]
     },
     "execution_count": 15,
     "metadata": {},
     "output_type": "execute_result"
    }
   ],
   "source": [
    "# baseline prediction\n",
    "round(reddit['subreddit'].value_counts(normalize = True)*100,0)"
   ]
  },
  {
   "cell_type": "code",
   "execution_count": 16,
   "metadata": {
    "scrolled": true
   },
   "outputs": [],
   "source": [
    "#binarizing the target outcome\n",
    "reddit['subreddit'].map({'worldnews': 1,'funny': 0});"
   ]
  },
  {
   "cell_type": "code",
   "execution_count": 17,
   "metadata": {
    "scrolled": true
   },
   "outputs": [
    {
     "data": {
      "text/plain": [
       "0       Julian Assange to be expelled from Ecuadorian ...\n",
       "1       Record  of Russians Say They Would Like to Lea...\n",
       "2       When Mueller submitted his report on Russian i...\n",
       "3       Trump has reacted angrily to reports members o...\n",
       "4       The routine vaccination of girls with the HPV ...\n",
       "5       Ontario considering mandatory annual math test...\n",
       "6       -star hotels owned by the sultan of Brunei del...\n",
       "7       Finland’s Basic Income Experiment Shows Recipi...\n",
       "8       Nearly  tonnes of pangolin scales worth S$ mil...\n",
       "9              US House votes to end involvement in Yemen\n",
       "10      BBC News - Brazil text books 'to be revised to...\n",
       "11      Boeing CEO acknowledges — for the first time —...\n",
       "12      Great Barrier Reef suffers  collapse in new co...\n",
       "13      Bad diets killing more people globally than to...\n",
       "14      Boeing's emergency procedure for runaway stabi...\n",
       "15      Bavaria to pass 'save the bees' petition into ...\n",
       "16      Christchurch Mosque shooter charged with  coun...\n",
       "17      Ethiopian - MAX Pilots followed Boeing procedu...\n",
       "18               Recreational marijuana now legal on Guam\n",
       "19      Yemen war: Congress votes to end US military a...\n",
       "20      Some on Mueller’s Team See Their Findings as M...\n",
       "21      Iceberg twice the size of New York City set to...\n",
       "22       riot police ready to tackle Brexit disorder o...\n",
       "23      ‘Veggie discs’ to replace veggie burgers in EU...\n",
       "24      Israel has lowest rate of diet-related deaths ...\n",
       "25      Trump backs off threat to close the U.S.-Mexic...\n",
       "26      Ecuador said to have reached agreement with UK...\n",
       "27      Donald Trump goes after India calls it one of ...\n",
       "28      Earth's carbon dioxide levels highest in  mill...\n",
       "29      Lawyer who spat at flight attendant during rac...\n",
       "                              ...                        \n",
       "3397                             I guess that'll work lol\n",
       "3398                       Hipster Supes just needs a PBR\n",
       "3399                      *Medicine Exists* Anti-Vaxxers:\n",
       "3400              \"The Godfather\"* (*with German accents)\n",
       "3401                                          Cat burglar\n",
       "3402    The relationship between your degree and what ...\n",
       "3403                                         Where is it?\n",
       "3404                                             wtf dude\n",
       "3405    I made my mind up to quit a week ago but didn’...\n",
       "3406                 The Tesla store in Pittsburgh today.\n",
       "3407      Trainers training for the Westminster Dog show.\n",
       "3408                             I want millenial parents\n",
       "3409                       So I can’t do the dishes here?\n",
       "3410              Only real doughnut lovers will get this\n",
       "3411                               Happy April Fools [OC]\n",
       "3412                                  My boy shrek and gf\n",
       "3413                  Truly a great piece of engineering.\n",
       "3414                            Even females can open it.\n",
       "3415                     Learning about science is so fun\n",
       "3416                                         squidwartle?\n",
       "3417                Wholesome prank by my coworker and I.\n",
       "3418     Which one of you dirtbags tried to hump a train?\n",
       "3419                                       Dude was weird\n",
       "3420                      Trying to impress my crush like\n",
       "3421                   MAYDAY! MAYDAY!! I’M GOING DOWN!!!\n",
       "3422                                     Procrastination \n",
       "3423                                    When ur mom thicc\n",
       "3424                                       I am the night\n",
       "3425                          Family Outing Only In India\n",
       "3426                                           Yes indeed\n",
       "Name: title, Length: 3427, dtype: object"
      ]
     },
     "execution_count": 17,
     "metadata": {},
     "output_type": "execute_result"
    }
   ],
   "source": [
    "#cleaning the data for digits and special characters deemed unnecessary\n",
    "import re\n",
    "reddit['title']= reddit['title'].apply(lambda x : re.sub('[0-9,%]', \"\", x))\n",
    "reddit['title']"
   ]
  },
  {
   "cell_type": "markdown",
   "metadata": {},
   "source": [
    "# Modeling\n",
    "\n",
    "**Create and compare two models**. The Multinomial Bayes classifier and the logistic regression."
   ]
  },
  {
   "cell_type": "code",
   "execution_count": 18,
   "metadata": {},
   "outputs": [],
   "source": [
    "# import pipeline, Naive Bays module, among other modules, if need be\n",
    "from sklearn.pipeline import Pipeline\n",
    "from sklearn.feature_extraction.text import CountVectorizer, TfidfVectorizer\n",
    "from sklearn.naive_bayes import MultinomialNB\n",
    "from sklearn.linear_model import LogisticRegression\n",
    "from sklearn.model_selection import cross_val_score, GridSearchCV "
   ]
  },
  {
   "cell_type": "markdown",
   "metadata": {},
   "source": [
    "## Creating my features and splitting the dataset for validation"
   ]
  },
  {
   "cell_type": "code",
   "execution_count": 19,
   "metadata": {},
   "outputs": [],
   "source": [
    "# setting my feature and target\n",
    "X = reddit['title'].apply(lambda x : re.sub('[0-9,%]', \"\", x))\n",
    "y = reddit['subreddit'].map({'worldnews': 1,'funny': 0})"
   ]
  },
  {
   "cell_type": "code",
   "execution_count": 20,
   "metadata": {},
   "outputs": [],
   "source": [
    "# Import Train, Test, Split Module\n",
    "from sklearn.model_selection import train_test_split\n",
    "\n",
    "# Create train_test_split.\n",
    "X_train, X_test, y_train, y_test = train_test_split(X, y, \n",
    "                                                    test_size = 0.2,\n",
    "                                                    random_state = 42,\n",
    "                                                    #stratify = y # did not help.\n",
    "                                                   )"
   ]
  },
  {
   "cell_type": "markdown",
   "metadata": {},
   "source": [
    "# Pipeline\n",
    "\n",
    "The pipeline will consist of two stages: \n",
    "  - An instance of CounVectorizer, as it was superior than TFIDF\n",
    "  - An instance of MNB as it was superior to LinReg. **The columns of X are all integer counts, so MultinomialNB is the best choice here.**"
   ]
  },
  {
   "cell_type": "code",
   "execution_count": 21,
   "metadata": {},
   "outputs": [],
   "source": [
    "# countVectorizer and Multinomial Naive Bayes are initialized\n",
    "cvec = CountVectorizer()\n",
    "lr = LogisticRegression()"
   ]
  },
  {
   "cell_type": "code",
   "execution_count": 22,
   "metadata": {},
   "outputs": [],
   "source": [
    "# countVectorizer and Multinomial Naive Bayes are instantiated\n",
    "\n",
    "pipe = Pipeline([\n",
    "    ('cvec', cvec),\n",
    "    ('lr',lr)\n",
    "    ])"
   ]
  },
  {
   "cell_type": "code",
   "execution_count": 23,
   "metadata": {},
   "outputs": [],
   "source": [
    "# Fit our CountVectorizer on the training data and transform training data.\n",
    "X_train_cvec = pd.DataFrame(cvec.fit_transform(X_train).todense(),\n",
    "                            columns = cvec.get_feature_names())\n",
    "\n",
    "# Transform our testing data with the already-fit CountVectorizer\n",
    "X_test_cvec = pd.DataFrame(cvec.transform(X_test).todense(),\n",
    "                            columns = cvec.get_feature_names())"
   ]
  },
  {
   "cell_type": "code",
   "execution_count": 24,
   "metadata": {},
   "outputs": [
    {
     "data": {
      "text/html": [
       "<div>\n",
       "<style scoped>\n",
       "    .dataframe tbody tr th:only-of-type {\n",
       "        vertical-align: middle;\n",
       "    }\n",
       "\n",
       "    .dataframe tbody tr th {\n",
       "        vertical-align: top;\n",
       "    }\n",
       "\n",
       "    .dataframe thead th {\n",
       "        text-align: right;\n",
       "    }\n",
       "</style>\n",
       "<table border=\"1\" class=\"dataframe\">\n",
       "  <thead>\n",
       "    <tr style=\"text-align: right;\">\n",
       "      <th></th>\n",
       "      <th>aaron</th>\n",
       "      <th>abandoned</th>\n",
       "      <th>abdelaziz</th>\n",
       "      <th>abdul</th>\n",
       "      <th>able</th>\n",
       "      <th>aboard</th>\n",
       "      <th>about</th>\n",
       "      <th>above</th>\n",
       "      <th>abraham</th>\n",
       "      <th>absolute</th>\n",
       "      <th>...</th>\n",
       "      <th>zia</th>\n",
       "      <th>zigni</th>\n",
       "      <th>zimbabwe</th>\n",
       "      <th>zone</th>\n",
       "      <th>zoo</th>\n",
       "      <th>zoomies</th>\n",
       "      <th>zte</th>\n",
       "      <th>zuckerberg</th>\n",
       "      <th>zuzana</th>\n",
       "      <th>令和</th>\n",
       "    </tr>\n",
       "  </thead>\n",
       "  <tbody>\n",
       "    <tr>\n",
       "      <th>0</th>\n",
       "      <td>0</td>\n",
       "      <td>0</td>\n",
       "      <td>0</td>\n",
       "      <td>0</td>\n",
       "      <td>0</td>\n",
       "      <td>0</td>\n",
       "      <td>0</td>\n",
       "      <td>0</td>\n",
       "      <td>0</td>\n",
       "      <td>0</td>\n",
       "      <td>...</td>\n",
       "      <td>0</td>\n",
       "      <td>0</td>\n",
       "      <td>0</td>\n",
       "      <td>0</td>\n",
       "      <td>0</td>\n",
       "      <td>0</td>\n",
       "      <td>0</td>\n",
       "      <td>0</td>\n",
       "      <td>0</td>\n",
       "      <td>0</td>\n",
       "    </tr>\n",
       "    <tr>\n",
       "      <th>1</th>\n",
       "      <td>0</td>\n",
       "      <td>0</td>\n",
       "      <td>0</td>\n",
       "      <td>0</td>\n",
       "      <td>0</td>\n",
       "      <td>0</td>\n",
       "      <td>1</td>\n",
       "      <td>0</td>\n",
       "      <td>0</td>\n",
       "      <td>0</td>\n",
       "      <td>...</td>\n",
       "      <td>0</td>\n",
       "      <td>0</td>\n",
       "      <td>0</td>\n",
       "      <td>0</td>\n",
       "      <td>0</td>\n",
       "      <td>0</td>\n",
       "      <td>0</td>\n",
       "      <td>0</td>\n",
       "      <td>0</td>\n",
       "      <td>0</td>\n",
       "    </tr>\n",
       "    <tr>\n",
       "      <th>2</th>\n",
       "      <td>0</td>\n",
       "      <td>0</td>\n",
       "      <td>0</td>\n",
       "      <td>0</td>\n",
       "      <td>0</td>\n",
       "      <td>0</td>\n",
       "      <td>0</td>\n",
       "      <td>0</td>\n",
       "      <td>0</td>\n",
       "      <td>0</td>\n",
       "      <td>...</td>\n",
       "      <td>0</td>\n",
       "      <td>0</td>\n",
       "      <td>0</td>\n",
       "      <td>0</td>\n",
       "      <td>0</td>\n",
       "      <td>0</td>\n",
       "      <td>0</td>\n",
       "      <td>0</td>\n",
       "      <td>0</td>\n",
       "      <td>0</td>\n",
       "    </tr>\n",
       "    <tr>\n",
       "      <th>3</th>\n",
       "      <td>0</td>\n",
       "      <td>0</td>\n",
       "      <td>0</td>\n",
       "      <td>0</td>\n",
       "      <td>0</td>\n",
       "      <td>0</td>\n",
       "      <td>0</td>\n",
       "      <td>0</td>\n",
       "      <td>0</td>\n",
       "      <td>0</td>\n",
       "      <td>...</td>\n",
       "      <td>0</td>\n",
       "      <td>0</td>\n",
       "      <td>0</td>\n",
       "      <td>0</td>\n",
       "      <td>0</td>\n",
       "      <td>0</td>\n",
       "      <td>0</td>\n",
       "      <td>0</td>\n",
       "      <td>0</td>\n",
       "      <td>0</td>\n",
       "    </tr>\n",
       "    <tr>\n",
       "      <th>4</th>\n",
       "      <td>0</td>\n",
       "      <td>0</td>\n",
       "      <td>0</td>\n",
       "      <td>0</td>\n",
       "      <td>0</td>\n",
       "      <td>0</td>\n",
       "      <td>0</td>\n",
       "      <td>0</td>\n",
       "      <td>0</td>\n",
       "      <td>0</td>\n",
       "      <td>...</td>\n",
       "      <td>0</td>\n",
       "      <td>0</td>\n",
       "      <td>0</td>\n",
       "      <td>0</td>\n",
       "      <td>0</td>\n",
       "      <td>0</td>\n",
       "      <td>0</td>\n",
       "      <td>0</td>\n",
       "      <td>0</td>\n",
       "      <td>0</td>\n",
       "    </tr>\n",
       "  </tbody>\n",
       "</table>\n",
       "<p>5 rows × 6319 columns</p>\n",
       "</div>"
      ],
      "text/plain": [
       "   aaron  abandoned  abdelaziz  abdul  able  aboard  about  above  abraham  \\\n",
       "0      0          0          0      0     0       0      0      0        0   \n",
       "1      0          0          0      0     0       0      1      0        0   \n",
       "2      0          0          0      0     0       0      0      0        0   \n",
       "3      0          0          0      0     0       0      0      0        0   \n",
       "4      0          0          0      0     0       0      0      0        0   \n",
       "\n",
       "   absolute  ...  zia  zigni  zimbabwe  zone  zoo  zoomies  zte  zuckerberg  \\\n",
       "0         0  ...    0      0         0     0    0        0    0           0   \n",
       "1         0  ...    0      0         0     0    0        0    0           0   \n",
       "2         0  ...    0      0         0     0    0        0    0           0   \n",
       "3         0  ...    0      0         0     0    0        0    0           0   \n",
       "4         0  ...    0      0         0     0    0        0    0           0   \n",
       "\n",
       "   zuzana  令和  \n",
       "0       0   0  \n",
       "1       0   0  \n",
       "2       0   0  \n",
       "3       0   0  \n",
       "4       0   0  \n",
       "\n",
       "[5 rows x 6319 columns]"
      ]
     },
     "execution_count": 24,
     "metadata": {},
     "output_type": "execute_result"
    }
   ],
   "source": [
    "# X_train_cvec [:]>=1\n",
    "X_train_cvec.head()"
   ]
  },
  {
   "cell_type": "code",
   "execution_count": 25,
   "metadata": {},
   "outputs": [
    {
     "name": "stderr",
     "output_type": "stream",
     "text": [
      "/anaconda3/envs/myenv/lib/python3.7/site-packages/sklearn/linear_model/logistic.py:433: FutureWarning: Default solver will be changed to 'lbfgs' in 0.22. Specify a solver to silence this warning.\n",
      "  FutureWarning)\n"
     ]
    },
    {
     "data": {
      "text/plain": [
       "(0.9029551258664721,\n",
       " {'cvec__analyzer': 'word',\n",
       "  'cvec__max_features': 4000,\n",
       "  'cvec__min_df': 0,\n",
       "  'cvec__ngram_range': (1, 1),\n",
       "  'cvec__stop_words': 'english',\n",
       "  'cvec__tokenizer': None})"
      ]
     },
     "execution_count": 25,
     "metadata": {},
     "output_type": "execute_result"
    }
   ],
   "source": [
    "# finetune model parameters through gridsearch\n",
    "pipe_params = {\n",
    "    'cvec__max_features' : [2000, 4000, None],\n",
    "    'cvec__min_df' : [0, 1, 2],\n",
    "    'cvec__ngram_range':[(1,1), (1,2)],\n",
    "    'cvec__analyzer' : ['word'],\n",
    "    'cvec__tokenizer': [None],\n",
    "    'cvec__stop_words': ['english']\n",
    "}\n",
    "gs = GridSearchCV(pipe, param_grid= pipe_params, cv=3)\n",
    "gs.fit(X_train, y_train)\n",
    "gs.best_score_, gs.best_params_"
   ]
  },
  {
   "cell_type": "code",
   "execution_count": 26,
   "metadata": {},
   "outputs": [
    {
     "name": "stderr",
     "output_type": "stream",
     "text": [
      "/anaconda3/envs/myenv/lib/python3.7/site-packages/sklearn/linear_model/logistic.py:433: FutureWarning: Default solver will be changed to 'lbfgs' in 0.22. Specify a solver to silence this warning.\n",
      "  FutureWarning)\n",
      "/anaconda3/envs/myenv/lib/python3.7/site-packages/sklearn/linear_model/logistic.py:433: FutureWarning: Default solver will be changed to 'lbfgs' in 0.22. Specify a solver to silence this warning.\n",
      "  FutureWarning)\n",
      "/anaconda3/envs/myenv/lib/python3.7/site-packages/sklearn/linear_model/logistic.py:433: FutureWarning: Default solver will be changed to 'lbfgs' in 0.22. Specify a solver to silence this warning.\n",
      "  FutureWarning)\n"
     ]
    },
    {
     "data": {
      "text/plain": [
       "0.8867825570883395"
      ]
     },
     "execution_count": 26,
     "metadata": {},
     "output_type": "execute_result"
    }
   ],
   "source": [
    "#score increases if the cell is run over fitted train set. if it is more proper to run it on the train set\n",
    "cross_val_score(gs, X=X , y=y, cv=3).mean()"
   ]
  },
  {
   "cell_type": "code",
   "execution_count": 27,
   "metadata": {},
   "outputs": [
    {
     "data": {
      "text/plain": [
       "(0.9916089018606348, 0.9008746355685131)"
      ]
     },
     "execution_count": 27,
     "metadata": {},
     "output_type": "execute_result"
    }
   ],
   "source": [
    "# Train and test scores comparison\n",
    "gs.score(X_train, y_train), gs.score(X_test, y_test)"
   ]
  },
  {
   "cell_type": "code",
   "execution_count": 28,
   "metadata": {},
   "outputs": [],
   "source": [
    "from sklearn.metrics import accuracy_score, confusion_matrix"
   ]
  },
  {
   "cell_type": "code",
   "execution_count": 29,
   "metadata": {},
   "outputs": [
    {
     "data": {
      "text/plain": [
       "0.9008746355685131"
      ]
     },
     "execution_count": 29,
     "metadata": {},
     "output_type": "execute_result"
    }
   ],
   "source": [
    "# predictions of real y's\n",
    "y_preds = gs.predict(X_test)\n",
    "\n",
    "accuracy_score(y_test, y_preds)"
   ]
  },
  {
   "cell_type": "code",
   "execution_count": 30,
   "metadata": {},
   "outputs": [
    {
     "data": {
      "text/plain": [
       "array([[403,   1],\n",
       "       [ 67, 215]])"
      ]
     },
     "execution_count": 30,
     "metadata": {},
     "output_type": "execute_result"
    }
   ],
   "source": [
    "# checking the details of the confusion matrix\n",
    "confusion_matrix(y_test, y_preds)"
   ]
  },
  {
   "cell_type": "code",
   "execution_count": 31,
   "metadata": {},
   "outputs": [
    {
     "data": {
      "text/html": [
       "<div>\n",
       "<style scoped>\n",
       "    .dataframe tbody tr th:only-of-type {\n",
       "        vertical-align: middle;\n",
       "    }\n",
       "\n",
       "    .dataframe tbody tr th {\n",
       "        vertical-align: top;\n",
       "    }\n",
       "\n",
       "    .dataframe thead th {\n",
       "        text-align: right;\n",
       "    }\n",
       "</style>\n",
       "<table border=\"1\" class=\"dataframe\">\n",
       "  <thead>\n",
       "    <tr style=\"text-align: right;\">\n",
       "      <th></th>\n",
       "      <th>p_Funny</th>\n",
       "      <th>p_WNews</th>\n",
       "    </tr>\n",
       "  </thead>\n",
       "  <tbody>\n",
       "    <tr>\n",
       "      <th>a_Funny</th>\n",
       "      <td>403</td>\n",
       "      <td>1</td>\n",
       "    </tr>\n",
       "    <tr>\n",
       "      <th>a_WNews</th>\n",
       "      <td>67</td>\n",
       "      <td>215</td>\n",
       "    </tr>\n",
       "  </tbody>\n",
       "</table>\n",
       "</div>"
      ],
      "text/plain": [
       "         p_Funny  p_WNews\n",
       "a_Funny      403        1\n",
       "a_WNews       67      215"
      ]
     },
     "execution_count": 31,
     "metadata": {},
     "output_type": "execute_result"
    }
   ],
   "source": [
    "#constructing the confusion matrix\n",
    "cm = confusion_matrix(y_test, y_preds)\n",
    "cm = pd.DataFrame(data=cm, columns=['p_Funny', 'p_WNews'], index=['a_Funny', 'a_WNews'])\n",
    "cm"
   ]
  },
  {
   "cell_type": "code",
   "execution_count": 36,
   "metadata": {},
   "outputs": [
    {
     "data": {
      "text/plain": [
       "Text(32.09375, 0.5, 'true values')"
      ]
     },
     "execution_count": 36,
     "metadata": {},
     "output_type": "execute_result"
    },
    {
     "data": {
      "image/png": "[encoded data removed]",
      "text/plain": [
       "<Figure size 432x288 with 1 Axes>"
      ]
     },
     "metadata": {
      "needs_background": "light"
     },
     "output_type": "display_data"
    }
   ],
   "source": [
    "#plotting the confusion matrix\n",
    "import seaborn as sns\n",
    "from matplotlib import pyplot as plt\n",
    "sns.heatmap(cm, annot=True, cbar=False)\n",
    "plt.xlabel('predicted values')\n",
    "plt.ylabel('true values')"
   ]
  },
  {
   "cell_type": "code",
   "execution_count": 33,
   "metadata": {},
   "outputs": [
    {
     "name": "stdout",
     "output_type": "stream",
     "text": [
      "Accuracy: 0.9008746355685131, Sensitivity: 0.7624113475177305, Specificity 0.9975247524752475, Precision 0.9953703703703703\n"
     ]
    }
   ],
   "source": [
    "#checking the source of model weakness\n",
    "TP, TN, FP, FN, = 215, 403, 1, 67\n",
    "\n",
    "Accuracy, Sensitivity, Specificity, Precision  = (TP+TN)/(TP+TN+FP+FN),TP/(TP+FN), TN/(TN+FP), TP/(TP+FP)\n",
    "\n",
    "print(f'Accuracy: {Accuracy}, Sensitivity: {Sensitivity}, Specificity {Specificity}, Precision {Precision}')"
   ]
  },
  {
   "cell_type": "markdown",
   "metadata": {},
   "source": [
    "# Live Example"
   ]
  },
  {
   "cell_type": "code",
   "execution_count": 34,
   "metadata": {},
   "outputs": [],
   "source": [
    "examples = ['school', 'school shooting', 'french', 'french guy', 'mother', 'young mother']\n",
    "\n",
    "examples_preds = gs.predict(examples)"
   ]
  },
  {
   "cell_type": "code",
   "execution_count": 35,
   "metadata": {
    "scrolled": true
   },
   "outputs": [
    {
     "data": {
      "text/html": [
       "<div>\n",
       "<style scoped>\n",
       "    .dataframe tbody tr th:only-of-type {\n",
       "        vertical-align: middle;\n",
       "    }\n",
       "\n",
       "    .dataframe tbody tr th {\n",
       "        vertical-align: top;\n",
       "    }\n",
       "\n",
       "    .dataframe thead th {\n",
       "        text-align: right;\n",
       "    }\n",
       "</style>\n",
       "<table border=\"1\" class=\"dataframe\">\n",
       "  <thead>\n",
       "    <tr style=\"text-align: right;\">\n",
       "      <th></th>\n",
       "      <th>Example</th>\n",
       "      <th>Prediction</th>\n",
       "    </tr>\n",
       "  </thead>\n",
       "  <tbody>\n",
       "    <tr>\n",
       "      <th>0</th>\n",
       "      <td>school</td>\n",
       "      <td>funny</td>\n",
       "    </tr>\n",
       "    <tr>\n",
       "      <th>1</th>\n",
       "      <td>school shooting</td>\n",
       "      <td>funny</td>\n",
       "    </tr>\n",
       "    <tr>\n",
       "      <th>2</th>\n",
       "      <td>french</td>\n",
       "      <td>funny</td>\n",
       "    </tr>\n",
       "    <tr>\n",
       "      <th>3</th>\n",
       "      <td>french guy</td>\n",
       "      <td>funny</td>\n",
       "    </tr>\n",
       "    <tr>\n",
       "      <th>4</th>\n",
       "      <td>mother</td>\n",
       "      <td>funny</td>\n",
       "    </tr>\n",
       "    <tr>\n",
       "      <th>5</th>\n",
       "      <td>young mother</td>\n",
       "      <td>funny</td>\n",
       "    </tr>\n",
       "  </tbody>\n",
       "</table>\n",
       "</div>"
      ],
      "text/plain": [
       "           Example Prediction\n",
       "0           school      funny\n",
       "1  school shooting      funny\n",
       "2           french      funny\n",
       "3       french guy      funny\n",
       "4           mother      funny\n",
       "5     young mother      funny"
      ]
     },
     "execution_count": 35,
     "metadata": {},
     "output_type": "execute_result"
    }
   ],
   "source": [
    "example_df = pd.DataFrame(examples, examples_preds)\n",
    "example_df\n",
    "subreddits_preds = example_df.index.map({1:'worldnews', 0: 'funny'})\n",
    "example_df= pd.DataFrame({'Example':examples, 'Prediction':subreddits_preds})\n",
    "example_df"
   ]
  },
  {
   "cell_type": "markdown",
   "metadata": {},
   "source": [
    "# Appendix: tracking earlier versions"
   ]
  },
  {
   "cell_type": "markdown",
   "metadata": {},
   "source": [
    "### First round: LR vs. MNB\n",
    "\n",
    "**the outcome of MNB is slightly better for the test set compared to logReg. the gap between the train and test set scores suggests an overfit. \n",
    "We could mitigate that by:\n",
    "  - adding more data\n",
    "  - using fewer features\n",
    "  - or try TF-IDF\n",
    "  - As a last resort try another model\n",
    " "
   ]
  },
  {
   "cell_type": "markdown",
   "metadata": {},
   "source": [
    "### Second round: adding more data  \n",
    "- with half the data, the test score on the NB model faired better in terms of closing the gap with the train data but still not good enough."
   ]
  },
  {
   "cell_type": "markdown",
   "metadata": {},
   "source": [
    "### Third round: using TF-IDF\n",
    "- the model got worse (test 93 to 90) and the gap still large."
   ]
  },
  {
   "cell_type": "markdown",
   "metadata": {},
   "source": [
    "### Fourth round: using Grid search\n",
    "  - it wasn't better. the model was over fit to the training set which increased to 99.8% while the testing set score dropped to 93.7%"
   ]
  }
 ],
 "metadata": {
  "kernelspec": {
   "display_name": "Python 3",
   "language": "python",
   "name": "python3"
  },
  "language_info": {
   "codemirror_mode": {
    "name": "ipython",
    "version": 3
   },
   "file_extension": ".py",
   "mimetype": "text/x-python",
   "name": "python",
   "nbconvert_exporter": "python",
   "pygments_lexer": "ipython3",
   "version": "3.6.8"
  }
 },
 "nbformat": 4,
 "nbformat_minor": 2
}
